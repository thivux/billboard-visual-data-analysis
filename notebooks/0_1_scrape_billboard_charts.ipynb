{
 "cells": [
  {
   "cell_type": "code",
   "execution_count": 1,
   "metadata": {
    "ExecuteTime": {
     "end_time": "2018-05-16T14:56:40.380959Z",
     "start_time": "2018-05-16T14:56:38.887009Z"
    },
    "collapsed": true
   },
   "outputs": [],
   "source": [
    "import numpy as np\n",
    "import pandas as pd\n",
    "import matplotlib.pyplot as plt\n",
    "import seaborn as sns\n",
    "import bs4\n",
    "import requests\n",
    "import warnings\n",
    "import re\n",
    "\n",
    "from matplotlib import rcParams\n",
    "\n",
    "rcParams['font.family'] = 'serif'\n",
    "rcParams['font.serif'] = 'times new roman'\n",
    "\n",
    "%config InlineBackend.figure_format = 'retina'\n",
    "%matplotlib inline\n",
    "\n",
    "warnings.filterwarnings('ignore')"
   ]
  },
  {
   "cell_type": "code",
   "execution_count": null,
   "metadata": {},
   "outputs": [],
   "source": [
    "url_base = 'https://en.wikipedia.org/wiki/Billboard_Year-End_Hot_100_singles_of_{}'\n",
    "\n",
    "htmls = dict()\n",
    "for year in range(1960, 2023):\n",
    "    url = url_base.format(year)\n",
    "    html = requests.get(url=url).content\n",
    "    htmls[year] = bs4.BeautifulSoup(html)"
   ]
  },
  {
   "cell_type": "code",
   "execution_count": 3,
   "metadata": {
    "ExecuteTime": {
     "end_time": "2018-05-11T22:19:54.533379Z",
     "start_time": "2018-05-11T22:19:54.251770Z"
    },
    "collapsed": true,
    "scrolled": false
   },
   "outputs": [],
   "source": [
    "dfs = list()    # for collecting dataframes\n",
    "\n",
    "for year, soup in htmls.items():\n",
    "    # collect all relevant table rows into a list\n",
    "    data = htmls[year]\\\n",
    "        .find('table', {'class':'wikitable sortable'})\\\n",
    "        .find_all('tr')\n",
    "    rows = [datum.contents for datum in data]\n",
    "    \n",
    "    # the first, and every other <tr> object contains no data\n",
    "    rows = [row[1::2] for row in rows][1:]\n",
    "    \n",
    "    # parse each row and store data in lists\n",
    "    ranks = list()\n",
    "    songs = list()\n",
    "    artists_base = list() # collects only primary artist\n",
    "    artists_all = list() # collects primary and featured artists\n",
    "    for row in rows:\n",
    "        # ranks must be cast as strings because of \"Tie\" as a possible value\n",
    "        ranks.append(str(row[0].contents[0]))\n",
    "        artists_all.append(' '.join(row[2].findAll(text=True)))\n",
    "        \n",
    "        # most primary artist data is a hyperlink, but some are just plaintext\n",
    "        if not isinstance(row[2].contents[0], bs4.NavigableString):\n",
    "            artists_base.append(row[2].contents[0].get('title'))\n",
    "        else:\n",
    "            artists_base.append(str(row[2].contents[0]))\n",
    "        if len(row[1].contents) == 1:\n",
    "            songs.append(str(row[1].contents[0]))\n",
    "        else:\n",
    "            songs.append(str(row[1].contents[1].findAll(text=True)[0]))\n",
    "    \n",
    "    # remove extra quotation marks from beginning and end of song titles\n",
    "    songs = [song.strip(\"\\\"\") for song in songs]\n",
    "    \n",
    "    # convert collected data for each year into its own dataframe\n",
    "    # to be combined later\n",
    "    data = dict(rank=ranks,\n",
    "                song=songs,\n",
    "                artist_base=artists_base,\n",
    "                artist_all=artists_all,\n",
    "                year=year)\n",
    "    df = pd.DataFrame(data)\n",
    "    dfs.append(df)"
   ]
  },
  {
   "cell_type": "code",
   "execution_count": 4,
   "metadata": {
    "ExecuteTime": {
     "end_time": "2018-05-12T17:07:13.808499Z",
     "start_time": "2018-05-12T17:07:13.769476Z"
    }
   },
   "outputs": [
    {
     "data": {
      "text/html": [
       "<div>\n",
       "<style scoped>\n",
       "    .dataframe tbody tr th:only-of-type {\n",
       "        vertical-align: middle;\n",
       "    }\n",
       "\n",
       "    .dataframe tbody tr th {\n",
       "        vertical-align: top;\n",
       "    }\n",
       "\n",
       "    .dataframe thead th {\n",
       "        text-align: right;\n",
       "    }\n",
       "</style>\n",
       "<table border=\"1\" class=\"dataframe\">\n",
       "  <thead>\n",
       "    <tr style=\"text-align: right;\">\n",
       "      <th></th>\n",
       "      <th>index</th>\n",
       "      <th>rank</th>\n",
       "      <th>song</th>\n",
       "      <th>artist_base</th>\n",
       "      <th>artist_all</th>\n",
       "      <th>year</th>\n",
       "    </tr>\n",
       "  </thead>\n",
       "  <tbody>\n",
       "    <tr>\n",
       "      <th>495</th>\n",
       "      <td>95</td>\n",
       "      <td>96\\n</td>\n",
       "      <td>flower shops</td>\n",
       "      <td>ernest (musician)</td>\n",
       "      <td>ernest  featuring  morgan wallen \\n</td>\n",
       "      <td>2022</td>\n",
       "    </tr>\n",
       "    <tr>\n",
       "      <th>496</th>\n",
       "      <td>96</td>\n",
       "      <td>97\\n</td>\n",
       "      <td>to the moon</td>\n",
       "      <td>jnr choi</td>\n",
       "      <td>jnr choi  and sam tompkins\\n</td>\n",
       "      <td>2022</td>\n",
       "    </tr>\n",
       "    <tr>\n",
       "      <th>497</th>\n",
       "      <td>97</td>\n",
       "      <td>98\\n</td>\n",
       "      <td>unholy</td>\n",
       "      <td>sam smith</td>\n",
       "      <td>sam smith  and  kim petras \\n</td>\n",
       "      <td>2022</td>\n",
       "    </tr>\n",
       "    <tr>\n",
       "      <th>498</th>\n",
       "      <td>98</td>\n",
       "      <td>99\\n</td>\n",
       "      <td>one mississippi</td>\n",
       "      <td>kane brown</td>\n",
       "      <td>kane brown \\n</td>\n",
       "      <td>2022</td>\n",
       "    </tr>\n",
       "    <tr>\n",
       "      <th>499</th>\n",
       "      <td>99</td>\n",
       "      <td>100\\n</td>\n",
       "      <td>circles around this town</td>\n",
       "      <td>maren morris</td>\n",
       "      <td>maren morris \\n</td>\n",
       "      <td>2022</td>\n",
       "    </tr>\n",
       "  </tbody>\n",
       "</table>\n",
       "</div>"
      ],
      "text/plain": [
       "     index   rank                      song        artist_base  \\\n",
       "495     95   96\\n              flower shops  ernest (musician)   \n",
       "496     96   97\\n               to the moon           jnr choi   \n",
       "497     97   98\\n                    unholy          sam smith   \n",
       "498     98   99\\n           one mississippi         kane brown   \n",
       "499     99  100\\n  circles around this town       maren morris   \n",
       "\n",
       "                              artist_all  year  \n",
       "495  ernest  featuring  morgan wallen \\n  2022  \n",
       "496         jnr choi  and sam tompkins\\n  2022  \n",
       "497        sam smith  and  kim petras \\n  2022  \n",
       "498                        kane brown \\n  2022  \n",
       "499                      maren morris \\n  2022  "
      ]
     },
     "execution_count": 4,
     "metadata": {},
     "output_type": "execute_result"
    }
   ],
   "source": [
    "billboard = pd.concat(dfs, axis=0)\n",
    "billboard[['song', 'artist_all', 'artist_base']]\\\n",
    "    = billboard[['song', 'artist_all', 'artist_base']].applymap(str.lower)\n",
    "billboard = billboard.reset_index()\n",
    "billboard.tail(5)"
   ]
  },
  {
   "cell_type": "markdown",
   "metadata": {},
   "source": [
    "We manually fix errors that cannot be automated. For example, automating the conversion from **lamp-lighter** to **lamplighter** would also mean **happy-go-lucky** is converted to **happygolucky**. Additionally, many song and artist names stored on Wikipedia are less-popular variants that need to be manually normalized."
   ]
  },
  {
   "cell_type": "code",
   "execution_count": 555,
   "metadata": {
    "ExecuteTime": {
     "end_time": "2018-05-12T17:07:16.763104Z",
     "start_time": "2018-05-12T17:07:16.525745Z"
    },
    "collapsed": true
   },
   "outputs": [],
   "source": [
    "billboard.at[33, 'song'] = 'night' # fix HTML error\n",
    "billboard.at[61, 'artist_base'] = 'the safaris' # remove (page not found)\n",
    "billboard.at[126, 'artist_base'] = 'dick and deedee' # change from \"dee dee\"\n",
    "billboard.at[283, 'artist_base'] = 'dick and deedee' # change from \"dee dee\"\n",
    "billboard.at[57, 'song'] = 'the old lamplighter' # change from \"lamp-lighter\"\n",
    "billboard.at[238, 'song'] = 'theme from dr kildare' # remove parantheticals\n",
    "\n",
    "for index in [145, 211, 266, 285, 331, 375]:\n",
    "    billboard.at[index, 'artist_base'] = 'dion' # remove last name\n",
    "\n",
    "billboard.at[347, 'song'] = 'memphis' # remove tennessee\n",
    "billboard.at[388, 'song'] = 'fly me to the moon' # remove bossa nova\n",
    "billboard.at[442, 'artist_base'] = 'the rip chords' # use artist_all value\n",
    "billboard.at[489, 'song'] = 'walk dont run' # remove year\n",
    "billboard.at[686, 'song'] = 'just my style' # remove \"she's\"\n",
    "billboard.at[871, 'artist_base'] = 'tommy boyce' # remove second artist\n",
    "billboard.at[936, 'artist_base'] = 'smokey robinson and the miracles' # add lead\n",
    "billboard.at[2798, 'song'] = 'fight for your right' # use shortened title\n",
    "billboard.at[1025, 'artist_base'] = 'the moments' # use artist_all\n",
    "billboard.at[1084, 'artist_base'] = '100 proof aged in soul' # longer name\n",
    "billboard.at[1191, 'song'] = 'i am i said' # remove ellipses\n",
    "billboard.at[1193, 'song'] = 'dont knock my love part 1'\n",
    "billboard.at[1200, 'song'] = 'somos novios its impossible' # add translation\n",
    "billboard.at[1264, 'artist_base'] = 'dr hook' # remove \"medicine show\"\n",
    "billboard.at[1290, 'artist_base'] = 'stephen schwartz'\n",
    "billboard.at[1371, 'song'] = 'do you want to dance' # fix from \"wanna\"\n",
    "billboard.at[1481, 'artist_base'] = 'donny and marie osmond'\n",
    "billboard.at[1481, 'song'] = 'im leaving it all up to you' # add \"all\"\n",
    "billboard.at[1565, 'song'] = 'one man woman one woman man' # fix spacing\n",
    "billboard.at[1749, 'song'] = 'swayin to the music slow dancin' # fix from \"dancing\"\n",
    "billboard.at[1773, 'artist_base'] = 'david dundas' # remove lord\n",
    "billboard.at[1800, 'artist_base'] = 'cj and co' # shorten from \"company\"\n",
    "billboard.at[1946, 'artist_base'] = 'dr hook' # remove \"medicine show\"\n",
    "billboard.at[2190, 'artist_base'] = 'hall and oates'\n",
    "billboard.at[2320, 'artist_base'] = 'frida' # use stage name\n",
    "billboard.at[2601, 'artist_base'] = 'dionne warwick' # remove \"and friends\"\n",
    "billboard.at[2670, 'song'] = 'silent running'\n",
    "billboard.at[2689, 'artist_base'] = 'run dmc'\n",
    "\n",
    "for index in [2860, 2863, 3065]:\n",
    "    billboard.at[index, 'artist_base'] = 'pebbles' # use artist_all\n",
    "\n",
    "for index in [2718, 2978]:\n",
    "    billboard.at[index, 'artist_base'] = 'tiffany' # remove last name\n",
    "    \n",
    "for index in [2989, 3204, 3321, 3531, 3575]:\n",
    "    billboard.at[index, 'artist_base'] = 'vanessa williams' # remove middle initial\n",
    "\n",
    "for index in [3356, 3461, 3551, 3889, 4380]:\n",
    "    billboard.at[index, 'artist_base'] = '2pac' # use stage name\n",
    "\n",
    "for index in [3453, 3580]:\n",
    "    billboard.at[index, 'artist_base'] = 'immature' # change from \"imx\"\n",
    "\n",
    "for index in [3500, 3537, 3549, 3598, 3616, 3802, 3914, 3976, 4265, 4289]:\n",
    "    billboard.at[index, 'artist_base'] = 'brandy' # remove last name\n",
    "\n",
    "for index in [3703, 3705, 3819, 3847, 3868, 3995, 4215, 4218, 4742]: \n",
    "    billboard.at[index, 'artist_base'] = 'puff daddy' # change from \"sean combs\"\n",
    "\n",
    "billboard.at[3890, 'artist_base'] = 'luke' # change from \"luther campbell\"\n",
    "\n",
    "for index in [3943, 4331]:\n",
    "    billboard.at[index, 'artist_base'] = 'tyrese' # remove last name\n",
    "\n",
    "billboard.at[3993, 'song'] = 'lesson in leavin' # remove \"a\"\n",
    "billboard.at[4086, 'artist_base'] = 'kandi' # remove last name\n",
    "billboard.at[4174, 'artist_base'] = 'romeo' # remove last name\n",
    "billboard.at[4353, 'song'] = 'why dont you and i'\n",
    "billboard.at[4475, 'song'] = 'why dont you and i'\n",
    "billboard.at[4593, 'song'] = 'numb encore'\n",
    "billboard.at[4967, 'artist_base'] = 'young money' # remove \"entertainment\"\n",
    "billboard.at[4967, 'song'] = 'every girl in the world'\n",
    "billboard.at[5321, 'song'] = 'cups' # remove paranthetical\n",
    "\n",
    "for index in [5424, 5552, 5590]:\n",
    "    billboard.at[index, 'artist_base'] = 'sia' # remove last name\n",
    "    \n",
    "billboard.at[2190, 'song'] = 'youve lost that lovin feeling' # add ending \"g\"\n",
    "billboard.at[5323, 'song'] = 'scream and shout' # convert \"&\""
   ]
  },
  {
   "cell_type": "code",
   "execution_count": 556,
   "metadata": {
    "ExecuteTime": {
     "end_time": "2018-05-12T17:07:26.134463Z",
     "start_time": "2018-05-12T17:07:26.117373Z"
    }
   },
   "outputs": [
    {
     "data": {
      "text/html": [
       "<div>\n",
       "<style>\n",
       "    .dataframe thead tr:only-child th {\n",
       "        text-align: right;\n",
       "    }\n",
       "\n",
       "    .dataframe thead th {\n",
       "        text-align: left;\n",
       "    }\n",
       "\n",
       "    .dataframe tbody tr th {\n",
       "        vertical-align: top;\n",
       "    }\n",
       "</style>\n",
       "<table border=\"1\" class=\"dataframe\">\n",
       "  <thead>\n",
       "    <tr style=\"text-align: right;\">\n",
       "      <th></th>\n",
       "      <th>index</th>\n",
       "      <th>artist_all</th>\n",
       "      <th>artist_base</th>\n",
       "      <th>rank</th>\n",
       "      <th>song</th>\n",
       "      <th>year</th>\n",
       "    </tr>\n",
       "  </thead>\n",
       "  <tbody>\n",
       "    <tr>\n",
       "      <th>3556</th>\n",
       "      <td>55</td>\n",
       "      <td>michael jackson  and  janet jackson</td>\n",
       "      <td>michael jackson</td>\n",
       "      <td>56</td>\n",
       "      <td>scream</td>\n",
       "      <td>1995</td>\n",
       "    </tr>\n",
       "    <tr>\n",
       "      <th>5244</th>\n",
       "      <td>43</td>\n",
       "      <td>usher</td>\n",
       "      <td>usher (entertainer)</td>\n",
       "      <td>44</td>\n",
       "      <td>scream</td>\n",
       "      <td>2012</td>\n",
       "    </tr>\n",
       "    <tr>\n",
       "      <th>5323</th>\n",
       "      <td>22</td>\n",
       "      <td>will.i.am  featuring  britney spears</td>\n",
       "      <td>will.i.am</td>\n",
       "      <td>23</td>\n",
       "      <td>scream and shout</td>\n",
       "      <td>2013</td>\n",
       "    </tr>\n",
       "  </tbody>\n",
       "</table>\n",
       "</div>"
      ],
      "text/plain": [
       "      index                            artist_all          artist_base rank  \\\n",
       "3556     55   michael jackson  and  janet jackson      michael jackson   56   \n",
       "5244     43                                 usher  usher (entertainer)   44   \n",
       "5323     22  will.i.am  featuring  britney spears            will.i.am   23   \n",
       "\n",
       "                  song  year  \n",
       "3556            scream  1995  \n",
       "5244            scream  2012  \n",
       "5323  scream and shout  2013  "
      ]
     },
     "execution_count": 556,
     "metadata": {},
     "output_type": "execute_result"
    }
   ],
   "source": [
    "billboard[billboard.song.str.contains('scream')]"
   ]
  },
  {
   "cell_type": "code",
   "execution_count": 5,
   "metadata": {
    "ExecuteTime": {
     "end_time": "2018-05-12T17:07:32.156592Z",
     "start_time": "2018-05-12T17:07:32.137001Z"
    }
   },
   "outputs": [
    {
     "data": {
      "text/html": [
       "<div>\n",
       "<style scoped>\n",
       "    .dataframe tbody tr th:only-of-type {\n",
       "        vertical-align: middle;\n",
       "    }\n",
       "\n",
       "    .dataframe tbody tr th {\n",
       "        vertical-align: top;\n",
       "    }\n",
       "\n",
       "    .dataframe thead th {\n",
       "        text-align: right;\n",
       "    }\n",
       "</style>\n",
       "<table border=\"1\" class=\"dataframe\">\n",
       "  <thead>\n",
       "    <tr style=\"text-align: right;\">\n",
       "      <th></th>\n",
       "      <th>index</th>\n",
       "      <th>rank</th>\n",
       "      <th>song</th>\n",
       "      <th>artist_base</th>\n",
       "      <th>artist_all</th>\n",
       "      <th>year</th>\n",
       "    </tr>\n",
       "  </thead>\n",
       "  <tbody>\n",
       "    <tr>\n",
       "      <th>85</th>\n",
       "      <td>85</td>\n",
       "      <td>86</td>\n",
       "      <td>i'm upset</td>\n",
       "      <td>drake (musician)</td>\n",
       "      <td>drake \\n</td>\n",
       "      <td>2018</td>\n",
       "    </tr>\n",
       "    <tr>\n",
       "      <th>83</th>\n",
       "      <td>83</td>\n",
       "      <td>84</td>\n",
       "      <td>1-800-273-8255</td>\n",
       "      <td>logic (musician)</td>\n",
       "      <td>logic  featuring  alessia cara  and  khalid \\n</td>\n",
       "      <td>2018</td>\n",
       "    </tr>\n",
       "    <tr>\n",
       "      <th>459</th>\n",
       "      <td>59</td>\n",
       "      <td>60\\n</td>\n",
       "      <td>knife talk</td>\n",
       "      <td>drake (musician)</td>\n",
       "      <td>drake  featuring  21 savage  and  project pat \\n</td>\n",
       "      <td>2022</td>\n",
       "    </tr>\n",
       "    <tr>\n",
       "      <th>26</th>\n",
       "      <td>26</td>\n",
       "      <td>27</td>\n",
       "      <td>bad at love</td>\n",
       "      <td>halsey (singer)</td>\n",
       "      <td>halsey \\n</td>\n",
       "      <td>2018</td>\n",
       "    </tr>\n",
       "    <tr>\n",
       "      <th>66</th>\n",
       "      <td>66</td>\n",
       "      <td>67</td>\n",
       "      <td>young dumb &amp; broke</td>\n",
       "      <td>khalid (singer)</td>\n",
       "      <td>khalid \\n</td>\n",
       "      <td>2018</td>\n",
       "    </tr>\n",
       "  </tbody>\n",
       "</table>\n",
       "</div>"
      ],
      "text/plain": [
       "     index  rank                song       artist_base  \\\n",
       "85      85    86           i'm upset  drake (musician)   \n",
       "83      83    84      1-800-273-8255  logic (musician)   \n",
       "459     59  60\\n          knife talk  drake (musician)   \n",
       "26      26    27         bad at love   halsey (singer)   \n",
       "66      66    67  young dumb & broke   khalid (singer)   \n",
       "\n",
       "                                           artist_all  year  \n",
       "85                                           drake \\n  2018  \n",
       "83     logic  featuring  alessia cara  and  khalid \\n  2018  \n",
       "459  drake  featuring  21 savage  and  project pat \\n  2022  \n",
       "26                                          halsey \\n  2018  \n",
       "66                                          khalid \\n  2018  "
      ]
     },
     "execution_count": 5,
     "metadata": {},
     "output_type": "execute_result"
    }
   ],
   "source": [
    "billboard[billboard.artist_base.str.contains('\\(')].sample(5)"
   ]
  },
  {
   "cell_type": "code",
   "execution_count": 6,
   "metadata": {
    "ExecuteTime": {
     "end_time": "2018-05-12T17:07:42.068617Z",
     "start_time": "2018-05-12T17:07:42.036298Z"
    },
    "collapsed": true
   },
   "outputs": [],
   "source": [
    "billboard[['artist_base', 'artist_all']]\\\n",
    "    = billboard[['artist_base', 'artist_all']].applymap(\n",
    "        lambda x: re.sub(r'\\(.*', '', x).strip()\n",
    "    )"
   ]
  },
  {
   "cell_type": "code",
   "execution_count": 7,
   "metadata": {
    "ExecuteTime": {
     "end_time": "2018-05-12T17:07:47.376161Z",
     "start_time": "2018-05-12T17:07:47.361483Z"
    }
   },
   "outputs": [
    {
     "data": {
      "text/plain": [
       "True"
      ]
     },
     "execution_count": 7,
     "metadata": {},
     "output_type": "execute_result"
    }
   ],
   "source": [
    "billboard.artist_all.str.contains('featuring').sum()\\\n",
    "    == billboard.artist_all.str.contains('feat').sum()"
   ]
  },
  {
   "cell_type": "code",
   "execution_count": 8,
   "metadata": {
    "ExecuteTime": {
     "end_time": "2018-05-12T17:07:48.580767Z",
     "start_time": "2018-05-12T17:07:48.557738Z"
    },
    "run_control": {
     "marked": true
    }
   },
   "outputs": [
    {
     "data": {
      "text/html": [
       "<div>\n",
       "<style scoped>\n",
       "    .dataframe tbody tr th:only-of-type {\n",
       "        vertical-align: middle;\n",
       "    }\n",
       "\n",
       "    .dataframe tbody tr th {\n",
       "        vertical-align: top;\n",
       "    }\n",
       "\n",
       "    .dataframe thead th {\n",
       "        text-align: right;\n",
       "    }\n",
       "</style>\n",
       "<table border=\"1\" class=\"dataframe\">\n",
       "  <thead>\n",
       "    <tr style=\"text-align: right;\">\n",
       "      <th></th>\n",
       "      <th>index</th>\n",
       "      <th>rank</th>\n",
       "      <th>song</th>\n",
       "      <th>artist_base</th>\n",
       "      <th>artist_all</th>\n",
       "      <th>year</th>\n",
       "      <th>artist_featured</th>\n",
       "    </tr>\n",
       "  </thead>\n",
       "  <tbody>\n",
       "    <tr>\n",
       "      <th>38</th>\n",
       "      <td>38</td>\n",
       "      <td>39</td>\n",
       "      <td>i fall apart</td>\n",
       "      <td>post malone</td>\n",
       "      <td>post malone</td>\n",
       "      <td>2018</td>\n",
       "      <td>NaN</td>\n",
       "    </tr>\n",
       "    <tr>\n",
       "      <th>78</th>\n",
       "      <td>78</td>\n",
       "      <td>79</td>\n",
       "      <td>king's dead</td>\n",
       "      <td>jay rock</td>\n",
       "      <td>jay rock ,  kendrick lamar ,  future  and  jam...</td>\n",
       "      <td>2018</td>\n",
       "      <td>NaN</td>\n",
       "    </tr>\n",
       "    <tr>\n",
       "      <th>346</th>\n",
       "      <td>46</td>\n",
       "      <td>47\\n</td>\n",
       "      <td>wants and needs</td>\n",
       "      <td>drake</td>\n",
       "      <td>drake  featuring  lil baby</td>\n",
       "      <td>2021</td>\n",
       "      <td>lil baby</td>\n",
       "    </tr>\n",
       "    <tr>\n",
       "      <th>215</th>\n",
       "      <td>15</td>\n",
       "      <td>16</td>\n",
       "      <td>roxanne</td>\n",
       "      <td>arizona zervas</td>\n",
       "      <td>arizona zervas</td>\n",
       "      <td>2020</td>\n",
       "      <td>NaN</td>\n",
       "    </tr>\n",
       "    <tr>\n",
       "      <th>404</th>\n",
       "      <td>4</td>\n",
       "      <td>5\\n</td>\n",
       "      <td>shivers</td>\n",
       "      <td>ed sheeran</td>\n",
       "      <td>ed sheeran</td>\n",
       "      <td>2022</td>\n",
       "      <td>NaN</td>\n",
       "    </tr>\n",
       "  </tbody>\n",
       "</table>\n",
       "</div>"
      ],
      "text/plain": [
       "     index  rank             song     artist_base  \\\n",
       "38      38    39     i fall apart     post malone   \n",
       "78      78    79      king's dead        jay rock   \n",
       "346     46  47\\n  wants and needs           drake   \n",
       "215     15    16          roxanne  arizona zervas   \n",
       "404      4   5\\n          shivers      ed sheeran   \n",
       "\n",
       "                                            artist_all  year artist_featured  \n",
       "38                                         post malone  2018             NaN  \n",
       "78   jay rock ,  kendrick lamar ,  future  and  jam...  2018             NaN  \n",
       "346                         drake  featuring  lil baby  2021        lil baby  \n",
       "215                                     arizona zervas  2020             NaN  \n",
       "404                                         ed sheeran  2022             NaN  "
      ]
     },
     "execution_count": 8,
     "metadata": {},
     "output_type": "execute_result"
    }
   ],
   "source": [
    "def extract_featured_artist(x):\n",
    "    match = re.match(\".*\\sfeaturing\\s(.*)\", x)\n",
    "    if match:\n",
    "        return match[1]\n",
    "    else:\n",
    "        return np.nan\n",
    "\n",
    "billboard['artist_featured'] = billboard.artist_all.apply(extract_featured_artist)\n",
    "billboard.sample(5)"
   ]
  },
  {
   "cell_type": "code",
   "execution_count": 9,
   "metadata": {
    "ExecuteTime": {
     "end_time": "2018-05-12T17:07:54.132774Z",
     "start_time": "2018-05-12T17:07:54.124844Z"
    },
    "collapsed": true
   },
   "outputs": [],
   "source": [
    "billboard['rank'] = billboard['rank'].replace('Tie', np.nan).astype(float).interpolate()"
   ]
  },
  {
   "cell_type": "code",
   "execution_count": 562,
   "metadata": {
    "ExecuteTime": {
     "end_time": "2018-05-12T17:07:55.421862Z",
     "start_time": "2018-05-12T17:07:55.413432Z"
    },
    "collapsed": true
   },
   "outputs": [],
   "source": [
    "billboard['rank'][billboard.year == 1969][100] = 100\n",
    "billboard['rank'] = billboard['rank'].astype(int)"
   ]
  },
  {
   "cell_type": "code",
   "execution_count": null,
   "metadata": {},
   "outputs": [],
   "source": [
    "billboard.to_csv('../data/billboard.csv', index=None)"
   ]
  }
 ],
 "metadata": {
  "kernelspec": {
   "display_name": "Python 3",
   "language": "python",
   "name": "python3"
  },
  "language_info": {
   "codemirror_mode": {
    "name": "ipython",
    "version": 3
   },
   "file_extension": ".py",
   "mimetype": "text/x-python",
   "name": "python",
   "nbconvert_exporter": "python",
   "pygments_lexer": "ipython3",
   "version": "3.10.7"
  },
  "varInspector": {
   "cols": {
    "lenName": 16,
    "lenType": 16,
    "lenVar": 40
   },
   "kernels_config": {
    "python": {
     "delete_cmd_postfix": "",
     "delete_cmd_prefix": "del ",
     "library": "var_list.py",
     "varRefreshCmd": "print(var_dic_list())"
    },
    "r": {
     "delete_cmd_postfix": ") ",
     "delete_cmd_prefix": "rm(",
     "library": "var_list.r",
     "varRefreshCmd": "cat(var_dic_list()) "
    }
   },
   "types_to_exclude": [
    "module",
    "function",
    "builtin_function_or_method",
    "instance",
    "_Feature"
   ],
   "window_display": false
  }
 },
 "nbformat": 4,
 "nbformat_minor": 2
}
