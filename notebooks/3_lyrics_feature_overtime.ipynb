{
 "cells": [
  {
   "cell_type": "code",
   "execution_count": 8,
   "metadata": {},
   "outputs": [],
   "source": [
    "import pandas as pd\n",
    "import matplotlib.pyplot as plt"
   ]
  },
  {
   "cell_type": "code",
   "execution_count": 2,
   "metadata": {},
   "outputs": [
    {
     "data": {
      "text/html": [
       "<div>\n",
       "<style scoped>\n",
       "    .dataframe tbody tr th:only-of-type {\n",
       "        vertical-align: middle;\n",
       "    }\n",
       "\n",
       "    .dataframe tbody tr th {\n",
       "        vertical-align: top;\n",
       "    }\n",
       "\n",
       "    .dataframe thead th {\n",
       "        text-align: right;\n",
       "    }\n",
       "</style>\n",
       "<table border=\"1\" class=\"dataframe\">\n",
       "  <thead>\n",
       "    <tr style=\"text-align: right;\">\n",
       "      <th></th>\n",
       "      <th>artist_all</th>\n",
       "      <th>artist_base</th>\n",
       "      <th>rank</th>\n",
       "      <th>song</th>\n",
       "      <th>year</th>\n",
       "      <th>artist_featured</th>\n",
       "      <th>song_clean</th>\n",
       "      <th>artist_clean</th>\n",
       "      <th>lyrics</th>\n",
       "      <th>danceability</th>\n",
       "      <th>...</th>\n",
       "      <th>tempo</th>\n",
       "      <th>time_signature</th>\n",
       "      <th>popularity</th>\n",
       "      <th>explicit</th>\n",
       "      <th>duration_min</th>\n",
       "      <th>num_words</th>\n",
       "      <th>words_per_sec</th>\n",
       "      <th>num_uniq_words</th>\n",
       "      <th>decade</th>\n",
       "      <th>uniq_ratio</th>\n",
       "    </tr>\n",
       "  </thead>\n",
       "  <tbody>\n",
       "    <tr>\n",
       "      <th>653</th>\n",
       "      <td>the rolling stones</td>\n",
       "      <td>the rolling stones</td>\n",
       "      <td>54</td>\n",
       "      <td>19th nervous breakdown</td>\n",
       "      <td>1966</td>\n",
       "      <td>NaN</td>\n",
       "      <td>19th nervous breakdown</td>\n",
       "      <td>the rolling stones</td>\n",
       "      <td>youre the kind of person you meet at certain ...</td>\n",
       "      <td>0.313</td>\n",
       "      <td>...</td>\n",
       "      <td>105.424</td>\n",
       "      <td>4.0</td>\n",
       "      <td>18.0</td>\n",
       "      <td>False</td>\n",
       "      <td>3.513783</td>\n",
       "      <td>373.0</td>\n",
       "      <td>1.769223</td>\n",
       "      <td>124.0</td>\n",
       "      <td>1960</td>\n",
       "      <td>0.332440</td>\n",
       "    </tr>\n",
       "    <tr>\n",
       "      <th>2376</th>\n",
       "      <td>men at work</td>\n",
       "      <td>men at work</td>\n",
       "      <td>76</td>\n",
       "      <td>it's a mistake</td>\n",
       "      <td>1983</td>\n",
       "      <td>NaN</td>\n",
       "      <td>its a mistake</td>\n",
       "      <td>men at work</td>\n",
       "      <td>jump down the shelters to get away the boys ar...</td>\n",
       "      <td>0.700</td>\n",
       "      <td>...</td>\n",
       "      <td>106.061</td>\n",
       "      <td>4.0</td>\n",
       "      <td>58.0</td>\n",
       "      <td>False</td>\n",
       "      <td>4.782883</td>\n",
       "      <td>197.0</td>\n",
       "      <td>0.686476</td>\n",
       "      <td>103.0</td>\n",
       "      <td>1980</td>\n",
       "      <td>0.522843</td>\n",
       "    </tr>\n",
       "    <tr>\n",
       "      <th>4333</th>\n",
       "      <td>wayne wonder</td>\n",
       "      <td>wayne wonder</td>\n",
       "      <td>33</td>\n",
       "      <td>no letting go</td>\n",
       "      <td>2003</td>\n",
       "      <td>NaN</td>\n",
       "      <td>no letting go</td>\n",
       "      <td>wayne wonder</td>\n",
       "      <td>got somebody shes a beauty very special reall...</td>\n",
       "      <td>0.527</td>\n",
       "      <td>...</td>\n",
       "      <td>100.127</td>\n",
       "      <td>4.0</td>\n",
       "      <td>26.0</td>\n",
       "      <td>False</td>\n",
       "      <td>3.363233</td>\n",
       "      <td>257.0</td>\n",
       "      <td>1.273576</td>\n",
       "      <td>77.0</td>\n",
       "      <td>2000</td>\n",
       "      <td>0.299611</td>\n",
       "    </tr>\n",
       "  </tbody>\n",
       "</table>\n",
       "<p>3 rows × 29 columns</p>\n",
       "</div>"
      ],
      "text/plain": [
       "              artist_all         artist_base  rank                    song  \\\n",
       "653   the rolling stones  the rolling stones    54  19th nervous breakdown   \n",
       "2376         men at work         men at work    76          it's a mistake   \n",
       "4333        wayne wonder        wayne wonder    33           no letting go   \n",
       "\n",
       "      year artist_featured              song_clean        artist_clean  \\\n",
       "653   1966             NaN  19th nervous breakdown  the rolling stones   \n",
       "2376  1983             NaN           its a mistake         men at work   \n",
       "4333  2003             NaN           no letting go        wayne wonder   \n",
       "\n",
       "                                                 lyrics  danceability  ...  \\\n",
       "653    youre the kind of person you meet at certain ...         0.313  ...   \n",
       "2376  jump down the shelters to get away the boys ar...         0.700  ...   \n",
       "4333   got somebody shes a beauty very special reall...         0.527  ...   \n",
       "\n",
       "        tempo  time_signature  popularity  explicit  duration_min  num_words  \\\n",
       "653   105.424             4.0        18.0     False      3.513783      373.0   \n",
       "2376  106.061             4.0        58.0     False      4.782883      197.0   \n",
       "4333  100.127             4.0        26.0     False      3.363233      257.0   \n",
       "\n",
       "      words_per_sec  num_uniq_words  decade  uniq_ratio  \n",
       "653        1.769223           124.0    1960    0.332440  \n",
       "2376       0.686476           103.0    1980    0.522843  \n",
       "4333       1.273576            77.0    2000    0.299611  \n",
       "\n",
       "[3 rows x 29 columns]"
      ]
     },
     "execution_count": 2,
     "metadata": {},
     "output_type": "execute_result"
    }
   ],
   "source": [
    "df = pd.read_csv('../data/billboard-lyrics-spotify.csv')\n",
    "df.sample(3)"
   ]
  },
  {
   "attachments": {},
   "cell_type": "markdown",
   "metadata": {},
   "source": [
    "## number of explicit songs over time"
   ]
  },
  {
   "cell_type": "code",
   "execution_count": 3,
   "metadata": {},
   "outputs": [
    {
     "data": {
      "text/plain": [
       "year\n",
       "1960    0\n",
       "1961    0\n",
       "1962    0\n",
       "1963    0\n",
       "1964    0\n",
       "Name: explicit, dtype: object"
      ]
     },
     "execution_count": 3,
     "metadata": {},
     "output_type": "execute_result"
    }
   ],
   "source": [
    "songs_by_year = df.groupby('year')['explicit'].sum()\n",
    "songs_by_year.head()"
   ]
  },
  {
   "cell_type": "code",
   "execution_count": 9,
   "metadata": {},
   "outputs": [
    {
     "data": {
      "image/png": "[encoded data removed]",
      "text/plain": [
       "<Figure size 1000x500 with 1 Axes>"
      ]
     },
     "metadata": {},
     "output_type": "display_data"
    }
   ],
   "source": [
    "plt.figure(figsize=(10, 5))\n",
    "songs_by_year.plot.area(color='#267A9E', grid=True)\n",
    "plt.xlabel('Year')\n",
    "plt.ylabel('Count')\n",
    "plt.title('Number of explicit songs by year')\n",
    "plt.show()"
   ]
  }
 ],
 "metadata": {
  "kernelspec": {
   "display_name": "spotify",
   "language": "python",
   "name": "python3"
  },
  "language_info": {
   "codemirror_mode": {
    "name": "ipython",
    "version": 3
   },
   "file_extension": ".py",
   "mimetype": "text/x-python",
   "name": "python",
   "nbconvert_exporter": "python",
   "pygments_lexer": "ipython3",
   "version": "3.9.16"
  },
  "orig_nbformat": 4
 },
 "nbformat": 4,
 "nbformat_minor": 2
}
